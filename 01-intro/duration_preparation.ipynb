{
 "cells": [
  {
   "cell_type": "code",
   "execution_count": 1,
   "id": "e69baa6c-9465-4a21-aa4d-b0d66ea4c322",
   "metadata": {},
   "outputs": [],
   "source": [
    "import pickle"
   ]
  },
  {
   "cell_type": "code",
   "execution_count": 2,
   "id": "a7ff66d0-87a4-476d-b49e-9e40f0fd81e6",
   "metadata": {},
   "outputs": [],
   "source": [
    "import pandas as pd\n",
    "import seaborn as sns\n",
    "import matplotlib.pyplot as plt"
   ]
  },
  {
   "cell_type": "code",
   "execution_count": 3,
   "id": "49cd9657-b224-4098-add3-c9de7a48c91a",
   "metadata": {},
   "outputs": [],
   "source": [
    "from sklearn.feature_extraction import DictVectorizer\n",
    "from sklearn.linear_model import LinearRegression\n",
    "from sklearn.linear_model import Lasso\n",
    "from sklearn.linear_model import Ridge\n",
    "\n",
    "from sklearn.metrics import mean_squared_error"
   ]
  },
  {
   "cell_type": "code",
   "execution_count": 4,
   "id": "aa8e5e6a-e97e-4cb8-9559-918cda8f977c",
   "metadata": {},
   "outputs": [],
   "source": [
    "def read_dataframe(filename):\n",
    "    df = pd.read_parquet(filename)\n",
    "\n",
    "    df.lpep_dropoff_datetime = pd.to_datetime(df.lpep_dropoff_datetime)\n",
    "    df.lpep_pickup_datetime = pd.to_datetime(df.lpep_pickup_datetime)\n",
    "\n",
    "    df['duration'] = df.lpep_dropoff_datetime - df.lpep_pickup_datetime\n",
    "    df.duration = df.duration.apply(lambda td: td.total_seconds()/60)\n",
    "\n",
    "    df = df[(df.duration >= 1) & (df.duration <= 60)]\n",
    "\n",
    "    categorical = ['PULocationID', 'DOLocationID']\n",
    "    df[categorical] = df[categorical].astype(str)\n",
    "\n",
    "    return df"
   ]
  },
  {
   "cell_type": "code",
   "execution_count": 5,
   "id": "2c22b799-691c-4444-a38e-e84e65584804",
   "metadata": {},
   "outputs": [],
   "source": [
    "df_train = read_dataframe(\"https://d37ci6vzurychx.cloudfront.net/trip-data/green_tripdata_2021-01.parquet\")\n",
    "df_val = read_dataframe(\"https://d37ci6vzurychx.cloudfront.net/trip-data/green_tripdata_2021-02.parquet\")\n",
    "\n",
    "df_train[\"PU_DO\"] = df_train['PULocationID'] + \"_\" + df_train['DOLocationID']\n",
    "df_val[\"PU_DO\"] = df_val['PULocationID'] + \"_\" + df_val['DOLocationID']"
   ]
  },
  {
   "cell_type": "code",
   "execution_count": 17,
   "id": "b71aeb14-26c3-43c9-bfd0-3ebf3247335b",
   "metadata": {},
   "outputs": [],
   "source": [
    "categorical = [\"PU_DO\"]\n",
    "numerical = ['trip_distance']\n",
    "\n",
    "X_train = df_train[categorical + numerical]\n",
    "X_val = df_val[categorical + numerical]"
   ]
  },
  {
   "cell_type": "code",
   "execution_count": 15,
   "id": "0a52c958-b749-425c-ac58-852f9b4cfd1f",
   "metadata": {},
   "outputs": [],
   "source": [
    "target = \"duration\"\n",
    "y_train = df_train[target].values\n",
    "y_val = df_val[target].values"
   ]
  },
  {
   "cell_type": "code",
   "execution_count": 19,
   "id": "4e6079c7-594a-403b-a706-508e6b2362b1",
   "metadata": {},
   "outputs": [
    {
     "data": {
      "text/plain": [
       "147.83335148572633"
      ]
     },
     "execution_count": 19,
     "metadata": {},
     "output_type": "execute_result"
    }
   ],
   "source": [
    "lr = LinearRegression()\n",
    "lr.fit(X_train, y_train)\n",
    "y_pred = lr.predict(X_val)\n",
    "\n",
    "mean_squared_error(y_val, y_pred)"
   ]
  },
  {
   "cell_type": "code",
   "execution_count": 21,
   "id": "4ae9bcd0-ed1f-4225-af7a-98389def1731",
   "metadata": {},
   "outputs": [],
   "source": [
    "with open('models/lin_reg.bin', 'wb') as f_out:\n",
    "    pickle.dump(lr, f_out)"
   ]
  },
  {
   "cell_type": "code",
   "execution_count": 23,
   "id": "59bf51fd-9777-48b3-af45-3c56e4320753",
   "metadata": {},
   "outputs": [
    {
     "data": {
      "text/plain": [
       "147.83335183304166"
      ]
     },
     "execution_count": 23,
     "metadata": {},
     "output_type": "execute_result"
    }
   ],
   "source": [
    "la = Lasso(0.01)\n",
    "la.fit(X_train, y_train)\n",
    "y_pred = la.predict(X_val)\n",
    "\n",
    "mean_squared_error(y_val, y_pred)"
   ]
  },
  {
   "cell_type": "code",
   "execution_count": 24,
   "id": "755d81d0-87d0-4c78-b4f2-13184abf3622",
   "metadata": {},
   "outputs": [],
   "source": [
    "with open('models/lasso.bin', 'wb') as f_out:\n",
    "    pickle.dump(la, f_out)"
   ]
  },
  {
   "cell_type": "code",
   "execution_count": 25,
   "id": "7dfa967e-1048-4433-9142-215221fcd3c3",
   "metadata": {},
   "outputs": [
    {
     "data": {
      "text/plain": [
       "147.83335148572633"
      ]
     },
     "execution_count": 25,
     "metadata": {},
     "output_type": "execute_result"
    }
   ],
   "source": [
    "rd = Ridge(0.01)\n",
    "rd.fit(X_train, y_train)\n",
    "y_pred = rd.predict(X_val)\n",
    "\n",
    "mean_squared_error(y_val, y_pred)"
   ]
  },
  {
   "cell_type": "code",
   "execution_count": 26,
   "id": "be27f209-df2e-48bf-8b9a-cf29bc4bac51",
   "metadata": {},
   "outputs": [],
   "source": [
    "with open('models/ridge.bin', 'wb') as f_out:\n",
    "    pickle.dump(rd, f_out)"
   ]
  },
  {
   "cell_type": "code",
   "execution_count": null,
   "id": "c6c1a1f3-d9d9-4530-bac1-43dc9e15d342",
   "metadata": {},
   "outputs": [],
   "source": []
  }
 ],
 "metadata": {
  "kernelspec": {
   "display_name": "Python 3 (ipykernel)",
   "language": "python",
   "name": "python3"
  },
  "language_info": {
   "codemirror_mode": {
    "name": "ipython",
    "version": 3
   },
   "file_extension": ".py",
   "mimetype": "text/x-python",
   "name": "python",
   "nbconvert_exporter": "python",
   "pygments_lexer": "ipython3",
   "version": "3.12.1"
  }
 },
 "nbformat": 4,
 "nbformat_minor": 5
}
